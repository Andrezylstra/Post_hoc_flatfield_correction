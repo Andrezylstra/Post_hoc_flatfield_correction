{
 "cells": [
  {
   "cell_type": "code",
   "execution_count": 2,
   "id": "b479b954",
   "metadata": {},
   "outputs": [],
   "source": [
    "import os\n",
    "import argparse\n",
    "import numpy as np\n",
    "from skimage.io import imread, imread_collection, imsave, MultiImage\n",
    "from scipy.ndimage import uniform_filter\n",
    "from skimage.filters import gaussian\n",
    "from datetime import datetime"
   ]
  },
  {
   "cell_type": "code",
   "execution_count": 5,
   "id": "42171712",
   "metadata": {},
   "outputs": [],
   "source": [
    "in_dir = \"/home/andre/Heinemann_lab/Code/Flatfield_correction/testing_input/Single_channel_timecourse\"\n",
    "tif_fns = os.listdir(in_dir)\n",
    "tif_fps = [os.path.join(in_dir, i) for i in tif_fns]"
   ]
  },
  {
   "cell_type": "code",
   "execution_count": 10,
   "id": "0150ce68",
   "metadata": {},
   "outputs": [],
   "source": [
    "raw_images = MultiImage(tif_fps, conserve_memory=True)\n",
    "base_im = np.full(\n",
    "        raw_images[0][0,:,:].shape, \n",
    "        500\n",
    "        )"
   ]
  },
  {
   "cell_type": "code",
   "execution_count": 40,
   "id": "76be32c5",
   "metadata": {},
   "outputs": [],
   "source": [
    "# ims = (np.subtract(i, base_im) for j in raw_images for i in j)\n",
    "ims = (np.subtract(i, base_im) for i in raw_images)"
   ]
  },
  {
   "cell_type": "code",
   "execution_count": 47,
   "id": "019b8723",
   "metadata": {},
   "outputs": [],
   "source": [
    "test = next(ims)"
   ]
  },
  {
   "cell_type": "code",
   "execution_count": 46,
   "id": "a21762a0",
   "metadata": {},
   "outputs": [
    {
     "data": {
      "text/plain": [
       "(409, 512, 512)"
      ]
     },
     "execution_count": 46,
     "metadata": {},
     "output_type": "execute_result"
    }
   ],
   "source": [
    "test.shape"
   ]
  },
  {
   "cell_type": "code",
   "execution_count": 36,
   "id": "85d95f0c",
   "metadata": {},
   "outputs": [
    {
     "data": {
      "text/plain": [
       "array([[0, 0, 6, ..., 0, 3, 6],\n",
       "       [1, 4, 0, ..., 1, 0, 2],\n",
       "       [0, 0, 0, ..., 1, 6, 0],\n",
       "       ...,\n",
       "       [1, 2, 0, ..., 2, 0, 6],\n",
       "       [0, 0, 2, ..., 5, 0, 0],\n",
       "       [2, 0, 1, ..., 4, 4, 0]], dtype=uint16)"
      ]
     },
     "execution_count": 36,
     "metadata": {},
     "output_type": "execute_result"
    }
   ],
   "source": [
    "imsave()"
   ]
  },
  {
   "cell_type": "code",
   "execution_count": 6,
   "id": "5d3e6138",
   "metadata": {},
   "outputs": [
    {
     "name": "stdout",
     "output_type": "stream",
     "text": [
      "[[[ 0  1  2  3]\n",
      "  [ 4  5  6  7]\n",
      "  [ 8  9 10 11]]\n",
      "\n",
      " [[12 13 14 15]\n",
      "  [16 17 18 19]\n",
      "  [20 21 22 23]]]\n"
     ]
    }
   ],
   "source": [
    "data = np.arange(24).reshape(2, 3, 4)\n",
    "print(data)"
   ]
  },
  {
   "cell_type": "code",
   "execution_count": 48,
   "id": "6ed7f689",
   "metadata": {},
   "outputs": [
    {
     "name": "stdout",
     "output_type": "stream",
     "text": [
      "<generator object <genexpr> at 0x7f831cda14a0>\n",
      "<generator object <genexpr> at 0x7f831cda14a0>\n",
      "<generator object <genexpr> at 0x7f831cda14a0>\n",
      "<generator object <genexpr> at 0x7f831cda14a0>\n",
      "<generator object <genexpr> at 0x7f831cda14a0>\n",
      "<generator object <genexpr> at 0x7f831cda14a0>\n",
      "<generator object <genexpr> at 0x7f831cda14a0>\n",
      "<generator object <genexpr> at 0x7f831cda14a0>\n",
      "<generator object <genexpr> at 0x7f831cda14a0>\n",
      "<generator object <genexpr> at 0x7f831cda14a0>\n"
     ]
    }
   ],
   "source": [
    "test = (i for i in range(10))\n",
    "for i in range(10):\n",
    "    print(test)"
   ]
  }
 ],
 "metadata": {
  "kernelspec": {
   "display_name": "Python 3",
   "language": "python",
   "name": "python3"
  },
  "language_info": {
   "codemirror_mode": {
    "name": "ipython",
    "version": 3
   },
   "file_extension": ".py",
   "mimetype": "text/x-python",
   "name": "python",
   "nbconvert_exporter": "python",
   "pygments_lexer": "ipython3",
   "version": "3.9.5"
  }
 },
 "nbformat": 4,
 "nbformat_minor": 5
}
